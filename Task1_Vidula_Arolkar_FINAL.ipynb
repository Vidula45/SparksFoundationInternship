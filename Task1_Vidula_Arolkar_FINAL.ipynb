{
  "nbformat": 4,
  "nbformat_minor": 0,
  "metadata": {
    "colab": {
      "name": "Task1_Vidula_Arolkar.ipynb",
      "provenance": [],
      "collapsed_sections": []
    },
    "kernelspec": {
      "name": "python3",
      "display_name": "Python 3"
    }
  },
  "cells": [
    {
      "cell_type": "markdown",
      "metadata": {
        "id": "9infzOFFdFYS"
      },
      "source": [
        "# ***GRADUATE ROTATIONAL INTERNSHIP PROGRAM (SPARKS FOUNDATION)***\n",
        "## ***DATA SCIENCE AND BUSINESS ANALYTICS***"
      ]
    },
    {
      "cell_type": "markdown",
      "metadata": {
        "id": "ubf6HERvcCU5"
      },
      "source": [
        "## **TASK 1 : PREDICTION USING SUPERVISED MACHINE LEARNING MODELS**\n",
        "##### **AUTHOR: VIDULA AROLKAR**"
      ]
    },
    {
      "cell_type": "markdown",
      "metadata": {
        "id": "lVWsITY8fLPk"
      },
      "source": [
        "#### **OBJECTIVE: Predict the percentage of a student based on the no. of study hours.**"
      ]
    },
    {
      "cell_type": "markdown",
      "metadata": {
        "id": "Khrk9iA_rMKg"
      },
      "source": [
        "Importing the required Libraries:"
      ]
    },
    {
      "cell_type": "code",
      "metadata": {
        "id": "5gIZS4VToao9"
      },
      "source": [
        "import numpy as np\n",
        "import pandas as pd\n",
        "import matplotlib.pyplot as plt\n",
        "import seaborn as sns "
      ],
      "execution_count": 1,
      "outputs": []
    },
    {
      "cell_type": "markdown",
      "metadata": {
        "id": "Ybp5rr03rRNW"
      },
      "source": [
        "Loading the data set:"
      ]
    },
    {
      "cell_type": "code",
      "metadata": {
        "id": "6i_zU4HzqAAl",
        "outputId": "6cb35bf8-1375-4f35-c496-73e5c933d72d",
        "colab": {
          "base_uri": "https://localhost:8080/",
          "height": 204
        }
      },
      "source": [
        "score_data = pd.read_csv('/content/student_scores - student_scores.csv')\n",
        "score_data.head()"
      ],
      "execution_count": 2,
      "outputs": [
        {
          "output_type": "execute_result",
          "data": {
            "text/html": [
              "<div>\n",
              "<style scoped>\n",
              "    .dataframe tbody tr th:only-of-type {\n",
              "        vertical-align: middle;\n",
              "    }\n",
              "\n",
              "    .dataframe tbody tr th {\n",
              "        vertical-align: top;\n",
              "    }\n",
              "\n",
              "    .dataframe thead th {\n",
              "        text-align: right;\n",
              "    }\n",
              "</style>\n",
              "<table border=\"1\" class=\"dataframe\">\n",
              "  <thead>\n",
              "    <tr style=\"text-align: right;\">\n",
              "      <th></th>\n",
              "      <th>Hours</th>\n",
              "      <th>Scores</th>\n",
              "    </tr>\n",
              "  </thead>\n",
              "  <tbody>\n",
              "    <tr>\n",
              "      <th>0</th>\n",
              "      <td>2.5</td>\n",
              "      <td>21</td>\n",
              "    </tr>\n",
              "    <tr>\n",
              "      <th>1</th>\n",
              "      <td>5.1</td>\n",
              "      <td>47</td>\n",
              "    </tr>\n",
              "    <tr>\n",
              "      <th>2</th>\n",
              "      <td>3.2</td>\n",
              "      <td>27</td>\n",
              "    </tr>\n",
              "    <tr>\n",
              "      <th>3</th>\n",
              "      <td>8.5</td>\n",
              "      <td>75</td>\n",
              "    </tr>\n",
              "    <tr>\n",
              "      <th>4</th>\n",
              "      <td>3.5</td>\n",
              "      <td>30</td>\n",
              "    </tr>\n",
              "  </tbody>\n",
              "</table>\n",
              "</div>"
            ],
            "text/plain": [
              "   Hours  Scores\n",
              "0    2.5      21\n",
              "1    5.1      47\n",
              "2    3.2      27\n",
              "3    8.5      75\n",
              "4    3.5      30"
            ]
          },
          "metadata": {
            "tags": []
          },
          "execution_count": 2
        }
      ]
    },
    {
      "cell_type": "code",
      "metadata": {
        "id": "pCdzF4WxfliP",
        "outputId": "aed2dd69-8f65-4f7f-b96c-a7f6681f7513",
        "colab": {
          "base_uri": "https://localhost:8080/"
        }
      },
      "source": [
        "print('Total Rows :' , score_data.shape[0])\n",
        "print('Total Columns:',score_data.shape[1])\n"
      ],
      "execution_count": 32,
      "outputs": [
        {
          "output_type": "stream",
          "text": [
            "Total Rows : 25\n",
            "Total Columns: 2\n"
          ],
          "name": "stdout"
        }
      ]
    },
    {
      "cell_type": "markdown",
      "metadata": {
        "id": "B4risz60rl-9"
      },
      "source": [
        "Basic Sanity Check of the Data:"
      ]
    },
    {
      "cell_type": "code",
      "metadata": {
        "id": "ih9Hza6bqMjJ",
        "outputId": "4b1597dc-5c07-42d9-b7a6-3ec7a896d990",
        "colab": {
          "base_uri": "https://localhost:8080/"
        }
      },
      "source": [
        "score_data.info()"
      ],
      "execution_count": 3,
      "outputs": [
        {
          "output_type": "stream",
          "text": [
            "<class 'pandas.core.frame.DataFrame'>\n",
            "RangeIndex: 25 entries, 0 to 24\n",
            "Data columns (total 2 columns):\n",
            " #   Column  Non-Null Count  Dtype  \n",
            "---  ------  --------------  -----  \n",
            " 0   Hours   25 non-null     float64\n",
            " 1   Scores  25 non-null     int64  \n",
            "dtypes: float64(1), int64(1)\n",
            "memory usage: 528.0 bytes\n"
          ],
          "name": "stdout"
        }
      ]
    },
    {
      "cell_type": "markdown",
      "metadata": {
        "id": "t_NEJMZXf1HQ"
      },
      "source": [
        "***Both the variables are of Integer data type***"
      ]
    },
    {
      "cell_type": "markdown",
      "metadata": {
        "id": "XhHsls5grtWf"
      },
      "source": [
        "Summary of the data:"
      ]
    },
    {
      "cell_type": "code",
      "metadata": {
        "id": "l8u_4HnDqPhJ",
        "outputId": "a4a73123-d290-410c-f587-9dc37596352a",
        "colab": {
          "base_uri": "https://localhost:8080/",
          "height": 297
        }
      },
      "source": [
        "score_data.describe()"
      ],
      "execution_count": 4,
      "outputs": [
        {
          "output_type": "execute_result",
          "data": {
            "text/html": [
              "<div>\n",
              "<style scoped>\n",
              "    .dataframe tbody tr th:only-of-type {\n",
              "        vertical-align: middle;\n",
              "    }\n",
              "\n",
              "    .dataframe tbody tr th {\n",
              "        vertical-align: top;\n",
              "    }\n",
              "\n",
              "    .dataframe thead th {\n",
              "        text-align: right;\n",
              "    }\n",
              "</style>\n",
              "<table border=\"1\" class=\"dataframe\">\n",
              "  <thead>\n",
              "    <tr style=\"text-align: right;\">\n",
              "      <th></th>\n",
              "      <th>Hours</th>\n",
              "      <th>Scores</th>\n",
              "    </tr>\n",
              "  </thead>\n",
              "  <tbody>\n",
              "    <tr>\n",
              "      <th>count</th>\n",
              "      <td>25.000000</td>\n",
              "      <td>25.000000</td>\n",
              "    </tr>\n",
              "    <tr>\n",
              "      <th>mean</th>\n",
              "      <td>5.012000</td>\n",
              "      <td>51.480000</td>\n",
              "    </tr>\n",
              "    <tr>\n",
              "      <th>std</th>\n",
              "      <td>2.525094</td>\n",
              "      <td>25.286887</td>\n",
              "    </tr>\n",
              "    <tr>\n",
              "      <th>min</th>\n",
              "      <td>1.100000</td>\n",
              "      <td>17.000000</td>\n",
              "    </tr>\n",
              "    <tr>\n",
              "      <th>25%</th>\n",
              "      <td>2.700000</td>\n",
              "      <td>30.000000</td>\n",
              "    </tr>\n",
              "    <tr>\n",
              "      <th>50%</th>\n",
              "      <td>4.800000</td>\n",
              "      <td>47.000000</td>\n",
              "    </tr>\n",
              "    <tr>\n",
              "      <th>75%</th>\n",
              "      <td>7.400000</td>\n",
              "      <td>75.000000</td>\n",
              "    </tr>\n",
              "    <tr>\n",
              "      <th>max</th>\n",
              "      <td>9.200000</td>\n",
              "      <td>95.000000</td>\n",
              "    </tr>\n",
              "  </tbody>\n",
              "</table>\n",
              "</div>"
            ],
            "text/plain": [
              "           Hours     Scores\n",
              "count  25.000000  25.000000\n",
              "mean    5.012000  51.480000\n",
              "std     2.525094  25.286887\n",
              "min     1.100000  17.000000\n",
              "25%     2.700000  30.000000\n",
              "50%     4.800000  47.000000\n",
              "75%     7.400000  75.000000\n",
              "max     9.200000  95.000000"
            ]
          },
          "metadata": {
            "tags": []
          },
          "execution_count": 4
        }
      ]
    },
    {
      "cell_type": "markdown",
      "metadata": {
        "id": "bhbNCQM0gI0l"
      },
      "source": [
        "### **INFERENCE:**\n",
        "1. TOTAL RECORDS: 25\n",
        "2. MAXIMUM SCORE: 95\n",
        "3. MINIMUM SCORE: 17\n",
        "4. MAXIMUM STUDY HOURS : 9.2\n",
        "5. MINIMUM STUDY HOURS : 1.1\n",
        "\n",
        "\n",
        "\n",
        "\n",
        "\n",
        "\n",
        "\n",
        "\n"
      ]
    },
    {
      "cell_type": "markdown",
      "metadata": {
        "id": "qQxsA9eGgntb"
      },
      "source": [
        "Check for Missing values:"
      ]
    },
    {
      "cell_type": "code",
      "metadata": {
        "id": "vpuQjszCNHDM",
        "outputId": "7f953ca7-faa4-4fb7-d210-78d5082c8695",
        "colab": {
          "base_uri": "https://localhost:8080/"
        }
      },
      "source": [
        "score_data.isnull().sum()"
      ],
      "execution_count": 33,
      "outputs": [
        {
          "output_type": "execute_result",
          "data": {
            "text/plain": [
              "Hours     0\n",
              "Scores    0\n",
              "dtype: int64"
            ]
          },
          "metadata": {
            "tags": []
          },
          "execution_count": 33
        }
      ]
    },
    {
      "cell_type": "markdown",
      "metadata": {
        "id": "FavcJiRogsUO"
      },
      "source": [
        "***There are no missing values in the data set. The data is clean enough to proceed.***"
      ]
    },
    {
      "cell_type": "markdown",
      "metadata": {
        "id": "zEspLF5Vg1-k"
      },
      "source": [
        "## **EXLORATORY DATA ANALYSIS:**"
      ]
    },
    {
      "cell_type": "markdown",
      "metadata": {
        "id": "SZLNQos2g6po"
      },
      "source": [
        "Check the spread of the Data :"
      ]
    },
    {
      "cell_type": "code",
      "metadata": {
        "id": "tFXdSokeMtma",
        "outputId": "6a612fa4-25e2-4fe2-852a-600d6b02d96a",
        "colab": {
          "base_uri": "https://localhost:8080/",
          "height": 350
        }
      },
      "source": [
        "plt.figure(figsize=(5,5))\n",
        "sns.scatterplot(x='Hours', y='Scores', data=score_data)\n",
        "plt.title('Hours vs Scores')\n",
        "plt.show()"
      ],
      "execution_count": 35,
      "outputs": [
        {
          "output_type": "display_data",
          "data": {
            "image/png": "[encoded data removed]",
            "text/plain": [
              "<Figure size 360x360 with 1 Axes>"
            ]
          },
          "metadata": {
            "tags": [],
            "needs_background": "light"
          }
        }
      ]
    },
    {
      "cell_type": "markdown",
      "metadata": {
        "id": "Ah5ofkx7hN1f"
      },
      "source": [
        "***We can see that the data is linear in nature. And it has positive correlation.***"
      ]
    },
    {
      "cell_type": "markdown",
      "metadata": {
        "id": "slTJbGgCoJVw"
      },
      "source": [
        "Histogram for Scores:"
      ]
    },
    {
      "cell_type": "code",
      "metadata": {
        "id": "zR_YfjnioJgV",
        "outputId": "be80f0fe-e8e5-40a9-cbf7-5c6af14c4580",
        "colab": {
          "base_uri": "https://localhost:8080/",
          "height": 388
        }
      },
      "source": [
        "plt.figure(figsize=(5,5))\n",
        "sns.distplot(score_data['Scores'],color='green')\n",
        "plt.show()\n"
      ],
      "execution_count": 58,
      "outputs": [
        {
          "output_type": "stream",
          "text": [
            "/usr/local/lib/python3.6/dist-packages/seaborn/distributions.py:2551: FutureWarning: `distplot` is a deprecated function and will be removed in a future version. Please adapt your code to use either `displot` (a figure-level function with similar flexibility) or `histplot` (an axes-level function for histograms).\n",
            "  warnings.warn(msg, FutureWarning)\n"
          ],
          "name": "stderr"
        },
        {
          "output_type": "display_data",
          "data": {
            "image/png": "[encoded data removed]",
            "text/plain": [
              "<Figure size 360x360 with 1 Axes>"
            ]
          },
          "metadata": {
            "tags": [],
            "needs_background": "light"
          }
        }
      ]
    },
    {
      "cell_type": "markdown",
      "metadata": {
        "id": "T52yqSiuheRc"
      },
      "source": [
        "Check for Outliers in the data:"
      ]
    },
    {
      "cell_type": "code",
      "metadata": {
        "id": "5_NRtk8-M47P",
        "outputId": "d726c84e-df4f-4222-9134-d36c11e1d42d",
        "colab": {
          "base_uri": "https://localhost:8080/",
          "height": 276
        }
      },
      "source": [
        "plt.figure(figsize=(8,8))\n",
        "plt.subplot(2,2,1)\n",
        "sns.boxplot(x='Hours', data= score_data)\n",
        "plt.title('Boxplot for Hours')\n",
        "plt.subplot(2,2,2)\n",
        "sns.boxplot(x='Scores', color ='deeppink',data= score_data)\n",
        "plt.title('Boxplot for Scores')\n",
        "plt.show()"
      ],
      "execution_count": 39,
      "outputs": [
        {
          "output_type": "display_data",
          "data": {
            "image/png": "[encoded data removed]",
            "text/plain": [
              "<Figure size 576x576 with 2 Axes>"
            ]
          },
          "metadata": {
            "tags": [],
            "needs_background": "light"
          }
        }
      ]
    },
    {
      "cell_type": "markdown",
      "metadata": {
        "id": "edISdvcgh3Tv"
      },
      "source": [
        "***There are no outliers in the data.***"
      ]
    },
    {
      "cell_type": "markdown",
      "metadata": {
        "id": "-7to1tpJiB-N"
      },
      "source": [
        "Check the correlation between the variables:"
      ]
    },
    {
      "cell_type": "code",
      "metadata": {
        "id": "_QcaysRiWQjK",
        "outputId": "8e9ef3d7-2bea-49bd-ef6e-514550ecb13c",
        "colab": {
          "base_uri": "https://localhost:8080/",
          "height": 281
        }
      },
      "source": [
        "sns.heatmap(score_data.corr(), annot =True, cmap='Accent')\n",
        "plt.title('Correlation between Hours and Scores')\n",
        "plt.show()"
      ],
      "execution_count": 43,
      "outputs": [
        {
          "output_type": "display_data",
          "data": {
            "image/png": "[encoded data removed]",
            "text/plain": [
              "<Figure size 432x288 with 2 Axes>"
            ]
          },
          "metadata": {
            "tags": [],
            "needs_background": "light"
          }
        }
      ]
    },
    {
      "cell_type": "markdown",
      "metadata": {
        "id": "VPiSTqSrjOcU"
      },
      "source": [
        "***The Hours and Score variables are highly correlated with each other. There is Positive correlation between them. So we can say that as the Study Hours increases, the Score may also increase.***"
      ]
    },
    {
      "cell_type": "markdown",
      "metadata": {
        "id": "VbnktJVHjeS5"
      },
      "source": [
        "## **MODEL BUILDING**"
      ]
    },
    {
      "cell_type": "markdown",
      "metadata": {
        "id": "qclZa12CjoTS"
      },
      "source": [
        "Split the Target(Score) and Independent(Hours) Variables:"
      ]
    },
    {
      "cell_type": "code",
      "metadata": {
        "id": "_iPNb7vDNBwZ"
      },
      "source": [
        "X=score_data.drop('Scores', axis=1)\n",
        "\n",
        "y=score_data['Scores']\n"
      ],
      "execution_count": 44,
      "outputs": []
    },
    {
      "cell_type": "markdown",
      "metadata": {
        "id": "f0P1f8Wij1t2"
      },
      "source": [
        "Importing the required libaries for Linear Regression Algorithm."
      ]
    },
    {
      "cell_type": "code",
      "metadata": {
        "id": "T1NAd4dqNFNu"
      },
      "source": [
        "from  sklearn.linear_model import LinearRegression\n",
        "from sklearn.model_selection import train_test_split # split the data into train and test\n",
        "from sklearn.metrics import accuracy_score, r2_score, mean_absolute_error, mean_squared_error #evaluation metrics "
      ],
      "execution_count": 45,
      "outputs": []
    },
    {
      "cell_type": "markdown",
      "metadata": {
        "id": "63nSP6PRlWfA"
      },
      "source": [
        "Performing Train Test Split:"
      ]
    },
    {
      "cell_type": "code",
      "metadata": {
        "id": "KvJBKBPMRxWD"
      },
      "source": [
        "X_train, X_test, y_train, y_test = train_test_split(X, y, train_size=0.8, random_state =42)"
      ],
      "execution_count": 12,
      "outputs": []
    },
    {
      "cell_type": "code",
      "metadata": {
        "id": "OX6RJnEnVnjL",
        "outputId": "367a9c46-2091-42a4-d81c-c3d4f50205d9",
        "colab": {
          "base_uri": "https://localhost:8080/"
        }
      },
      "source": [
        "#rows and columns in X_train , X_test after splitting\n",
        "\n",
        "print(X_train.shape)\n",
        "print(y_train.shape)\n",
        "print(X_test.shape)\n",
        "print(y_test.shape)"
      ],
      "execution_count": 14,
      "outputs": [
        {
          "output_type": "stream",
          "text": [
            "(20, 1)\n",
            "(20,)\n",
            "(5, 1)\n",
            "(5,)\n"
          ],
          "name": "stdout"
        }
      ]
    },
    {
      "cell_type": "code",
      "metadata": {
        "id": "W4xeAlcpSrtP",
        "outputId": "ad39f1b3-5f2b-4a3b-f165-8cd277017bc3",
        "colab": {
          "base_uri": "https://localhost:8080/"
        }
      },
      "source": [
        "lr = LinearRegression()  #instantiating the Linear Regression object\n",
        "\n",
        "lr.fit(X_train,y_train) # fit the data to the Model.\n"
      ],
      "execution_count": 15,
      "outputs": [
        {
          "output_type": "execute_result",
          "data": {
            "text/plain": [
              "LinearRegression(copy_X=True, fit_intercept=True, n_jobs=None, normalize=False)"
            ]
          },
          "metadata": {
            "tags": []
          },
          "execution_count": 15
        }
      ]
    },
    {
      "cell_type": "markdown",
      "metadata": {
        "id": "sKpLvwvelsdy"
      },
      "source": [
        "Predicting on the test data:"
      ]
    },
    {
      "cell_type": "code",
      "metadata": {
        "id": "pzoRAnM8Sx5_"
      },
      "source": [
        "y_test_pred = lr.predict(X_test)"
      ],
      "execution_count": 16,
      "outputs": []
    },
    {
      "cell_type": "markdown",
      "metadata": {
        "id": "_V2yYG_Jly_b"
      },
      "source": [
        "DataFrame showing the Actual and the Predicted Scores :"
      ]
    },
    {
      "cell_type": "code",
      "metadata": {
        "id": "VwxJHO8kXMdZ",
        "outputId": "023e3176-cdaf-460c-87f7-14af6741a389",
        "colab": {
          "base_uri": "https://localhost:8080/",
          "height": 204
        }
      },
      "source": [
        "scores= pd.DataFrame({'Actual': y_test, 'Predicted':y_test_pred})\n",
        "scores"
      ],
      "execution_count": 22,
      "outputs": [
        {
          "output_type": "execute_result",
          "data": {
            "text/html": [
              "<div>\n",
              "<style scoped>\n",
              "    .dataframe tbody tr th:only-of-type {\n",
              "        vertical-align: middle;\n",
              "    }\n",
              "\n",
              "    .dataframe tbody tr th {\n",
              "        vertical-align: top;\n",
              "    }\n",
              "\n",
              "    .dataframe thead th {\n",
              "        text-align: right;\n",
              "    }\n",
              "</style>\n",
              "<table border=\"1\" class=\"dataframe\">\n",
              "  <thead>\n",
              "    <tr style=\"text-align: right;\">\n",
              "      <th></th>\n",
              "      <th>Actual</th>\n",
              "      <th>Predicted</th>\n",
              "    </tr>\n",
              "  </thead>\n",
              "  <tbody>\n",
              "    <tr>\n",
              "      <th>8</th>\n",
              "      <td>81</td>\n",
              "      <td>83.188141</td>\n",
              "    </tr>\n",
              "    <tr>\n",
              "      <th>16</th>\n",
              "      <td>30</td>\n",
              "      <td>27.032088</td>\n",
              "    </tr>\n",
              "    <tr>\n",
              "      <th>0</th>\n",
              "      <td>21</td>\n",
              "      <td>27.032088</td>\n",
              "    </tr>\n",
              "    <tr>\n",
              "      <th>23</th>\n",
              "      <td>76</td>\n",
              "      <td>69.633232</td>\n",
              "    </tr>\n",
              "    <tr>\n",
              "      <th>11</th>\n",
              "      <td>62</td>\n",
              "      <td>59.951153</td>\n",
              "    </tr>\n",
              "  </tbody>\n",
              "</table>\n",
              "</div>"
            ],
            "text/plain": [
              "    Actual  Predicted\n",
              "8       81  83.188141\n",
              "16      30  27.032088\n",
              "0       21  27.032088\n",
              "23      76  69.633232\n",
              "11      62  59.951153"
            ]
          },
          "metadata": {
            "tags": []
          },
          "execution_count": 22
        }
      ]
    },
    {
      "cell_type": "markdown",
      "metadata": {
        "id": "MpIZNpBwl5AX"
      },
      "source": [
        "***There is a very small difference in the values of Actual and Predicted. So we can say that our Model is performing good.***"
      ]
    },
    {
      "cell_type": "markdown",
      "metadata": {
        "id": "u653z475mGvn"
      },
      "source": [
        "## **MODEL EVALUATION:**\n",
        "The metrics we are using here are :\n",
        "1. R-Squared\n",
        "2. Mean Absolute Error\n",
        "3. Mean Squared Error\n",
        "4. Root Mean Squared Error."
      ]
    },
    {
      "cell_type": "code",
      "metadata": {
        "id": "bxxgN9ajYZ-a",
        "outputId": "0a0a2d7b-56c3-4596-e300-d7cf0c68d446",
        "colab": {
          "base_uri": "https://localhost:8080/"
        }
      },
      "source": [
        "#R-Squared :\n",
        "print('R-Squared:',r2_score(y_test, y_test_pred))\n"
      ],
      "execution_count": 47,
      "outputs": [
        {
          "output_type": "stream",
          "text": [
            "R-Squared: 0.9678055545167994\n"
          ],
          "name": "stdout"
        }
      ]
    },
    {
      "cell_type": "markdown",
      "metadata": {
        "id": "hYs4Gk66m1By"
      },
      "source": [
        "### **Inference:** \n",
        "#### ***The R-squared value for our Model is 96% which is a good number. We can say that our model is good at predicting the Scores.***"
      ]
    },
    {
      "cell_type": "code",
      "metadata": {
        "id": "XoklSlb1nNCP",
        "outputId": "7ab9f623-fe07-4307-aa6b-38de6bc8c190",
        "colab": {
          "base_uri": "https://localhost:8080/"
        }
      },
      "source": [
        "#Mean Absolute Error:\n",
        "\n",
        "print('Mean Absolute Error:',mean_absolute_error(y_test, y_test_pred))"
      ],
      "execution_count": 50,
      "outputs": [
        {
          "output_type": "stream",
          "text": [
            "Mean Absolute Error: 3.9207511902099244\n"
          ],
          "name": "stdout"
        }
      ]
    },
    {
      "cell_type": "code",
      "metadata": {
        "id": "G1v9QsWmYj86",
        "outputId": "52b6eb74-8293-4eb6-d91b-5a87fd4cb0d6",
        "colab": {
          "base_uri": "https://localhost:8080/"
        }
      },
      "source": [
        "#Mean Squared Error:\n",
        "print('Mean Squared Error:',mean_squared_error(y_test, y_test_pred))"
      ],
      "execution_count": 48,
      "outputs": [
        {
          "output_type": "stream",
          "text": [
            "Mean Squared Error: 18.943211722315272\n"
          ],
          "name": "stdout"
        }
      ]
    },
    {
      "cell_type": "code",
      "metadata": {
        "id": "pgTt9S32YxPQ",
        "outputId": "5b095e3e-81ec-44bc-ecdd-48f2a01a5c08",
        "colab": {
          "base_uri": "https://localhost:8080/"
        }
      },
      "source": [
        "#Root Mean Squared Error:\n",
        "print('Root Mean Squared Error:',np.sqrt(mean_squared_error(y_test, y_test_pred)))"
      ],
      "execution_count": 49,
      "outputs": [
        {
          "output_type": "stream",
          "text": [
            "Root Mean Squared Error: 4.352380006653288\n"
          ],
          "name": "stdout"
        }
      ]
    },
    {
      "cell_type": "markdown",
      "metadata": {
        "id": "3Aeq497anJc9"
      },
      "source": [
        "### **Inference:**\n",
        "#### ***The Mean SQuared error, Mean absolute error and the Root Mean Square error should be as low as possible to get a Acuurate model. Here we can say that our model has achieved this accuracy at a great level.***"
      ]
    },
    {
      "cell_type": "markdown",
      "metadata": {
        "id": "RmpXv-cfnlBx"
      },
      "source": [
        "## **Testing our model to predict the scores for 9.25 hours of study:**"
      ]
    },
    {
      "cell_type": "code",
      "metadata": {
        "id": "xuU_8x58Y9zZ",
        "outputId": "3a2d51e9-9b0f-4a5e-cb79-7c8d909da72f",
        "colab": {
          "base_uri": "https://localhost:8080/"
        }
      },
      "source": [
        "score_pred = lr.predict([[9.25]])\n",
        "print('Score for 9.25 hours :',score_pred)"
      ],
      "execution_count": 31,
      "outputs": [
        {
          "output_type": "stream",
          "text": [
            "Score for 9.25 hours : [92.38611528]\n"
          ],
          "name": "stdout"
        }
      ]
    },
    {
      "cell_type": "markdown",
      "metadata": {
        "id": "GwMepA0pnurn"
      },
      "source": [
        "### **Inference:**\n",
        "#### ***For 9.25 hours of study , the percentage scored by the Student is 92.38% which is a good score and we can conclude that our model is doing a good job.***"
      ]
    }
  ]
}